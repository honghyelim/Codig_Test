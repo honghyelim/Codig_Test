{
 "cells": [
  {
   "cell_type": "markdown",
   "metadata": {},
   "source": [
    "## 그리디(탐욕법)\n",
    "### \"현재 상황에서 지금 당장 좋은 것만 고르는 방법\""
   ]
  },
  {
   "cell_type": "markdown",
   "metadata": {},
   "source": [
    "### 거스름돈 문제\n",
    "카운터에는 거스름돈으로 사용할 500원, 100원, 50원, 10원 동정이 있다. 거슬러 줘야 할 돈이 N원일 때, 거슬러 줘야 할 동전의 최소 개수를 구하라. \n",
    "\n",
    "**문제 해결 방법 : '가장 큰 화폐 단위부터' 돈을 거슬러 주는 것**"
   ]
  },
  {
   "cell_type": "code",
   "execution_count": 1,
   "metadata": {},
   "outputs": [
    {
     "name": "stdout",
     "output_type": "stream",
     "text": [
      "6\n"
     ]
    }
   ],
   "source": [
    "n = 1260\n",
    "count = 0\n",
    "\n",
    "#큰 단위의 화폐부터 차례대로 확인\n",
    "coin_types = [500,100,50,10]\n",
    "\n",
    "for coin in coin_types: #해당 화폐로 거슬러 줄 수 있는 동전의 개수 세기\n",
    "    count += n//coin \n",
    "    n %= coin  #나머지를 n으로 다시 입력\n",
    "    \n",
    "print(count)"
   ]
  },
  {
   "cell_type": "markdown",
   "metadata": {},
   "source": [
    "### 실전 문제1 : 큰 수의 법칙\n",
    "예를 들어, 2,4,5,4,6으로 이루어진 배열에서 M이 8이고, K가 3이라 가정하자. 이 경우 특정한 인덱스의 수가 연속해서 3번까지 더해질 수 있으므로 큰 수의 법칙에 따른 결과 6+6+6+5+6+6+6+5인 46이 된다.\n",
    "\n",
    "**문제 해결 방법 : '가장 큰 수를 K번 더하고 두 번째로 큰수를 한 번 더하는 연산'을 반복**"
   ]
  },
  {
   "cell_type": "code",
   "execution_count": 5,
   "metadata": {},
   "outputs": [
    {
     "name": "stdout",
     "output_type": "stream",
     "text": [
      "5 8 3\n",
      "2 4 5 4 6\n",
      "46\n"
     ]
    }
   ],
   "source": [
    "#단순하게 푸는 방식\n",
    "n,m,k = map(int,input().split())\n",
    "data = list(map(int,input().split()))\n",
    "\n",
    "data.sort()\n",
    "first = data[n-1]\n",
    "second = data[n-2]\n",
    "result = 0\n",
    "\n",
    "while True :\n",
    "    for i in range(k):\n",
    "        if m == 0 :\n",
    "            break\n",
    "        result += first\n",
    "        m -=1\n",
    "    if m == 0:\n",
    "        break\n",
    "    result += second\n",
    "    m-= 1\n",
    "print(result)"
   ]
  },
  {
   "cell_type": "code",
   "execution_count": 6,
   "metadata": {},
   "outputs": [
    {
     "name": "stdout",
     "output_type": "stream",
     "text": [
      "5 8 3\n",
      "2 4 5 4 6\n",
      "46\n"
     ]
    }
   ],
   "source": [
    "#수열을 통해 문제 해결하기\n",
    "n,m,k = map(int,input().split())\n",
    "data = list(map(int,input().split()))\n",
    "\n",
    "data.sort()\n",
    "first = data[n-1]\n",
    "second = data[n-2]\n",
    "\n",
    "count = int(m // (k+1)) * k\n",
    "count += m % (k+1)\n",
    "\n",
    "result = 0\n",
    "result += (count) * first\n",
    "result += (m-count) * second\n",
    "\n",
    "print(result)"
   ]
  },
  {
   "cell_type": "markdown",
   "metadata": {},
   "source": [
    "### 실전 문제2 : 1이 될 때까지\n",
    "어떤한 수 N이 1이 될 때까지 다음의 두 과정 중 하나를 반복적으로 선택하여 수행했을 때 최소 횟수는?\n",
    "1. N에서 1을 뺀다.\n",
    "2. N을 K로 나눈다.\n",
    "\n",
    "**문제 해결 방법 : 최대한 많이 나누기**"
   ]
  },
  {
   "cell_type": "code",
   "execution_count": 10,
   "metadata": {},
   "outputs": [
    {
     "name": "stdout",
     "output_type": "stream",
     "text": [
      "25 5\n",
      "2\n"
     ]
    }
   ],
   "source": [
    "#단순하게 푸는 방식\n",
    "n,k = map(int,input().split())\n",
    "result = 0\n",
    "\n",
    "while n >= k:\n",
    "    while n % k != 0:\n",
    "        n -= 1\n",
    "        result += 1\n",
    "        \n",
    "    n //= k\n",
    "    result += 1\n",
    "    \n",
    "while n > 1:\n",
    "    n -= 1\n",
    "    result += 1\n",
    "\n",
    "print(result)"
   ]
  },
  {
   "cell_type": "code",
   "execution_count": 12,
   "metadata": {},
   "outputs": [
    {
     "name": "stdout",
     "output_type": "stream",
     "text": [
      "25 5\n",
      "2\n"
     ]
    }
   ],
   "source": [
    "#단순하게 푸는 방식\n",
    "n,k = map(int,input().split())\n",
    "result = 0\n",
    "\n",
    "while n >= k:\n",
    "    if n % k != 0:\n",
    "        n -= 1\n",
    "        result += 1\n",
    "    else : \n",
    "        n //= k\n",
    "        result += 1\n",
    "    \n",
    "while n > 1:\n",
    "    n -= 1\n",
    "    result += 1\n",
    "\n",
    "print(result)"
   ]
  },
  {
   "cell_type": "code",
   "execution_count": 19,
   "metadata": {},
   "outputs": [
    {
     "name": "stdout",
     "output_type": "stream",
     "text": [
      "25 3\n",
      "2\n",
      "5\n",
      "6\n"
     ]
    }
   ],
   "source": [
    "#효율적인 방식\n",
    "n,k = map(int,input().split())\n",
    "result = 0\n",
    "\n",
    "while True :\n",
    "    t = (n//k) * k #n이 k로 나누어 떨어지는 수가 될 때까지 1씩 빼기\n",
    "    result += (n-t) \n",
    "    n = t\n",
    "    #print(result)\n",
    "    if n < k:\n",
    "        break\n",
    "    result += 1\n",
    "    n //= k\n",
    "    print(result)\n",
    "    \n",
    "result += (n-1)\n",
    "print(result)"
   ]
  },
  {
   "cell_type": "markdown",
   "metadata": {},
   "source": [
    "### 실전 문제3 : 숫자 카드 게임\n",
    "여러 개의 숫자 카드 중에서 가장 높은 숫자가 쓰인 카드 한 장을 뽑는 게임이다.\n",
    "\n",
    "**문제 해결 방법 : '각 행마다 가장 작은 수를 찾은 뒤 그 수 중 가장 큰 수'를 찾는 것**"
   ]
  },
  {
   "cell_type": "code",
   "execution_count": 20,
   "metadata": {},
   "outputs": [
    {
     "name": "stdout",
     "output_type": "stream",
     "text": [
      "3 3\n",
      "3 1 2\n",
      "4 1 4\n",
      "2 2 2\n",
      "2\n"
     ]
    }
   ],
   "source": [
    "#min()함수를 사용하는 방법\n",
    "n,m = map(int, input().split())\n",
    "r = 0\n",
    "\n",
    "for i in range(n):\n",
    "    data = list(map(int,input().split()))\n",
    "    min_v = min(data)\n",
    "    r = max(r,min_v)\n",
    "    \n",
    "print(r)"
   ]
  },
  {
   "cell_type": "code",
   "execution_count": 24,
   "metadata": {},
   "outputs": [
    {
     "name": "stdout",
     "output_type": "stream",
     "text": [
      "3 3\n",
      "3 1 2\n",
      "4 1 4\n",
      "2 2 2\n",
      "2\n"
     ]
    }
   ],
   "source": [
    "#2중 반복문 구조를 이용하는 방법\n",
    "n,m = map(int, input().split())\n",
    "result = 0\n",
    "\n",
    "for i in range(n):\n",
    "    data = list(map(int,input().split()))\n",
    "    min_v = 10001\n",
    "    for a in data:\n",
    "        min_v = min(min_v,a)\n",
    "    result = max(result,min_v)\n",
    "\n",
    "print(result)"
   ]
  }
 ],
 "metadata": {
  "kernelspec": {
   "display_name": "Python 3",
   "language": "python",
   "name": "python3"
  },
  "language_info": {
   "codemirror_mode": {
    "name": "ipython",
    "version": 3
   },
   "file_extension": ".py",
   "mimetype": "text/x-python",
   "name": "python",
   "nbconvert_exporter": "python",
   "pygments_lexer": "ipython3",
   "version": "3.7.6"
  }
 },
 "nbformat": 4,
 "nbformat_minor": 4
}
